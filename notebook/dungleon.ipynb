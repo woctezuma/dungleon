{
  "nbformat": 4,
  "nbformat_minor": 0,
  "metadata": {
    "colab": {
      "private_outputs": true,
      "provenance": [],
      "collapsed_sections": [
        "fwnoss6CiNdN",
        "rr0kScToaRZ2",
        "66de3Fk-aTJ2",
        "w3cZ2ZFKfKcw",
        "lFV53odHfSKn",
        "cB6c40Zkec2P",
        "KlAyesBgeeqn",
        "-MpwG0hzehfh"
      ]
    },
    "kernelspec": {
      "name": "python3",
      "display_name": "Python 3"
    },
    "language_info": {
      "name": "python"
    }
  },
  "cells": [
    {
      "cell_type": "markdown",
      "source": [
        "# Dungelon Study"
      ],
      "metadata": {
        "id": "twzB9eqwXFok"
      }
    },
    {
      "cell_type": "markdown",
      "source": [
        "## Preparation"
      ],
      "metadata": {
        "id": "fwnoss6CiNdN"
      }
    },
    {
      "cell_type": "markdown",
      "source": [
        "### Install Python packages"
      ],
      "metadata": {
        "id": "rr0kScToaRZ2"
      }
    },
    {
      "cell_type": "code",
      "source": [
        "%pip install -qq --upgrade interpret gensim umap-learn umap-learn[plot]"
      ],
      "metadata": {
        "id": "BvGhYV8Qh7tu"
      },
      "execution_count": null,
      "outputs": []
    },
    {
      "cell_type": "markdown",
      "source": [
        "### Fetch data\n",
        "Reference: https://github.com/woctezuma/dungleon"
      ],
      "metadata": {
        "id": "66de3Fk-aTJ2"
      }
    },
    {
      "cell_type": "markdown",
      "source": [
        "#### Representations of characters"
      ],
      "metadata": {
        "id": "w3cZ2ZFKfKcw"
      }
    },
    {
      "cell_type": "code",
      "execution_count": null,
      "metadata": {
        "id": "eqU4dDVcf4WW"
      },
      "outputs": [],
      "source": [
        "# Markdown characters, e.g. \"\":fr:\"\" for the frog\n",
        "!curl -o characters.md https://raw.githubusercontent.com/woctezuma/dungleon/main/data/characters.md\n",
        "\n",
        "# Emojis, e.g. \"🐸\" for the frog\n",
        "!curl -o emojis.txt https://raw.githubusercontent.com/woctezuma/dungleon/main/data/emojis.txt\n",
        "\n",
        "# Letters, e.g. \"F\" for the frog\n",
        "!curl -o letters.txt https://raw.githubusercontent.com/woctezuma/dungleon/main/data/letters.txt\n",
        "\n",
        "# Words, e.g. \"Frog\" for the frog\n",
        "!curl -o characters.txt https://raw.githubusercontent.com/woctezuma/dungleon/main/data/characters.txt"
      ]
    },
    {
      "cell_type": "markdown",
      "source": [
        "#### Solutions represented with Markdown characters"
      ],
      "metadata": {
        "id": "lFV53odHfSKn"
      }
    },
    {
      "cell_type": "code",
      "source": [
        "SOLUTION_FNAME = \"solutions.seen.md\""
      ],
      "metadata": {
        "id": "wfVtR0roj7Kq"
      },
      "execution_count": null,
      "outputs": []
    },
    {
      "cell_type": "code",
      "source": [
        "!curl -o {SOLUTION_FNAME} https://raw.githubusercontent.com/woctezuma/dungleon/main/data/{SOLUTION_FNAME}"
      ],
      "metadata": {
        "id": "I2k920CGbwIK"
      },
      "execution_count": null,
      "outputs": []
    },
    {
      "cell_type": "markdown",
      "source": [
        "## Data pre-processing\n",
        "\n"
      ],
      "metadata": {
        "id": "d9Qa_f-WiPz-"
      }
    },
    {
      "cell_type": "markdown",
      "source": [
        "### Define functions"
      ],
      "metadata": {
        "id": "cB6c40Zkec2P"
      }
    },
    {
      "cell_type": "code",
      "source": [
        "def load_file(fname):\n",
        "  with open(fname, 'r') as f:\n",
        "    data = [line.strip() for line in f.readlines()]\n",
        "  return data\n",
        "\n",
        "def build_dictionary(doc_markdown, doc_emojis, doc_letters, doc_words):\n",
        "  # Match the characters' representations with a dictionary for the ease of mind\n",
        "  d = {}\n",
        "  for markdown, emoji, letter, word in zip(doc_markdown, doc_emojis, doc_letters, doc_words):\n",
        "    d[markdown] = emoji\n",
        "    d[emoji] = letter\n",
        "    d[letter] = word\n",
        "    d[word] = markdown\n",
        "  return d\n",
        "\n",
        "def to_solution_as_emojis(solution_as_markdown):\n",
        "  # Convert solution from a Markdown text to a list of emojis for compactness\n",
        "  return [ d[markdown] for markdown in solution_as_markdown.split()]\n",
        "\n",
        "def show_solution_as_emojis(texts, num_to_display = 10):\n",
        "  num_to_display = min(len(texts), num_to_display)\n",
        "  print('\\n'.join(sorted(''.join(t) for t in texts[:num_to_display])))"
      ],
      "metadata": {
        "id": "yUePHeMmbuwG"
      },
      "execution_count": null,
      "outputs": []
    },
    {
      "cell_type": "markdown",
      "source": [
        "### Create a dictionary"
      ],
      "metadata": {
        "id": "KlAyesBgeeqn"
      }
    },
    {
      "cell_type": "code",
      "source": [
        "d = build_dictionary(doc_markdown=load_file('characters.md'),\n",
        "                     doc_emojis=load_file('emojis.txt'),\n",
        "                     doc_letters=load_file('letters.txt'),\n",
        "                     doc_words=load_file('characters.txt')\n",
        "                     )\n",
        "\n",
        "print(d[\":fr:\"])\n",
        "print(d[\"🐸\"])\n",
        "print(d[\"F\"])\n",
        "print(d[\"Frog\"])"
      ],
      "metadata": {
        "id": "kZ00gwF7elqh"
      },
      "execution_count": null,
      "outputs": []
    },
    {
      "cell_type": "markdown",
      "source": [
        "### Reformat solutions"
      ],
      "metadata": {
        "id": "-MpwG0hzehfh"
      }
    },
    {
      "cell_type": "code",
      "source": [
        "texts = [ to_solution_as_emojis(solution_as_markdown)\n",
        "          for solution_as_markdown in load_file(SOLUTION_FNAME)\n",
        "        ]\n",
        "\n",
        "show_solution_as_emojis(texts, num_to_display=10)"
      ],
      "metadata": {
        "id": "AB0ufQ_YbOoz"
      },
      "execution_count": null,
      "outputs": []
    },
    {
      "cell_type": "markdown",
      "source": [
        "### Create a dataset of masked solutions\n",
        "\n",
        "An emoji is hidden and will have to be predicted."
      ],
      "metadata": {
        "id": "W37rr2nMejr-"
      }
    },
    {
      "cell_type": "code",
      "source": [
        "dummy_character = ['N/A']\n",
        "feature_names = [\"🇦\", \"🇧\", \"🇨\", \"🇩\", \"🇪\"]\n",
        "\n",
        "masked_data = {}\n",
        "\n",
        "for i, slot in enumerate(feature_names):\n",
        "  X = []\n",
        "  y = []\n",
        "\n",
        "  for t in texts:\n",
        "    masked_solution = t[:i] + dummy_character + t[(i+1):]\n",
        "    hidden_character = t[i]\n",
        "\n",
        "    X.append(masked_solution)\n",
        "    y.append(hidden_character)\n",
        "\n",
        "  masked_data[slot] = {\"X\": X, \"y\": y}"
      ],
      "metadata": {
        "id": "LnMzP3c5448C"
      },
      "execution_count": null,
      "outputs": []
    },
    {
      "cell_type": "markdown",
      "source": [
        "## \"Explainable Boosting Machine\" with InterpretML\n",
        "Reference: https://interpret.ml/docs/ebm.html"
      ],
      "metadata": {
        "id": "Avk-eKMne90w"
      }
    },
    {
      "cell_type": "code",
      "source": [
        "slot_no = 0\n",
        "assert 0 <= slot_no < len(feature_names)\n",
        "\n",
        "slot = feature_names[slot_no]\n",
        "print(f\"Slot: {slot}\")"
      ],
      "metadata": {
        "id": "VYLIiR5lLdBR"
      },
      "execution_count": null,
      "outputs": []
    },
    {
      "cell_type": "code",
      "source": [
        "from interpret.glassbox import ExplainableBoostingClassifier\n",
        "from interpret import show\n",
        "\n",
        "X = masked_data[slot][\"X\"]\n",
        "y = masked_data[slot][\"y\"]\n",
        "\n",
        "ebm = ExplainableBoostingClassifier(feature_names=feature_names)\n",
        "ebm.fit(X, y)\n",
        "\n",
        "ebm_global = ebm.explain_global()\n",
        "show(ebm_global)"
      ],
      "metadata": {
        "id": "pp0F3q3Z6ZrW"
      },
      "execution_count": null,
      "outputs": []
    },
    {
      "cell_type": "markdown",
      "source": [
        "## Word2Vec with Gensim\n",
        "\n",
        "Reference: https://radimrehurek.com/gensim/auto_examples/core/run_corpora_and_vector_spaces.html"
      ],
      "metadata": {
        "id": "pje55_zuiRzl"
      }
    },
    {
      "cell_type": "code",
      "source": [
        "import logging\n",
        "\n",
        "logging.basicConfig(format='%(asctime)s : %(levelname)s : %(message)s', level=logging.INFO)"
      ],
      "metadata": {
        "id": "7aAq_PtniMfz"
      },
      "execution_count": null,
      "outputs": []
    },
    {
      "cell_type": "code",
      "source": [
        "from gensim import corpora\n",
        "\n",
        "dictionary = corpora.Dictionary(texts)\n",
        "corpus = [dictionary.doc2bow(text) for text in texts]"
      ],
      "metadata": {
        "id": "rd9nZlLOgh-7"
      },
      "execution_count": null,
      "outputs": []
    },
    {
      "cell_type": "markdown",
      "source": [
        "### Transformations\n",
        "\n",
        "Reference: https://radimrehurek.com/gensim/auto_examples/core/run_topics_and_transformations.html"
      ],
      "metadata": {
        "id": "l8i9wNM5ZUXX"
      }
    },
    {
      "cell_type": "code",
      "source": [
        "from gensim import models\n",
        "\n",
        "num_topics = 2\n",
        "\n",
        "tfidf = models.TfidfModel(corpus)\n",
        "corpus_tfidf = tfidf[corpus]\n",
        "\n",
        "lsi_model = models.LsiModel(corpus_tfidf, id2word=dictionary, num_topics=num_topics)\n",
        "corpus_lsi = lsi_model[corpus_tfidf]\n",
        "\n",
        "lda_model = models.LdaModel(corpus, id2word=dictionary, num_topics=num_topics)\n",
        "corpus_lda = lda_model[corpus]"
      ],
      "metadata": {
        "id": "Sfg_j-MTlCOQ"
      },
      "execution_count": null,
      "outputs": []
    },
    {
      "cell_type": "markdown",
      "source": [
        "### Word2Vec\n",
        "\n",
        "Reference: https://radimrehurek.com/gensim/auto_examples/tutorials/run_word2vec.html"
      ],
      "metadata": {
        "id": "ei0x_C0LZXes"
      }
    },
    {
      "cell_type": "code",
      "source": [
        "import numpy as np\n",
        "\n",
        "vector_size = 5\n",
        "\n",
        "model = models.Word2Vec(texts, min_count=1, vector_size=vector_size)\n",
        "\n",
        "vectors = np.asarray(model.wv.vectors)\n",
        "labels = np.asarray(model.wv.index_to_key)\n",
        "\n",
        "labels_with_names = np.array([ d[em] for em in labels])"
      ],
      "metadata": {
        "id": "y8DC4BTgqw40"
      },
      "execution_count": null,
      "outputs": []
    },
    {
      "cell_type": "markdown",
      "source": [
        "### Clustering"
      ],
      "metadata": {
        "id": "FXFpXg6fgKgf"
      }
    },
    {
      "cell_type": "code",
      "source": [
        "import sklearn.cluster as cluster\n",
        "\n",
        "n_clusters = 4\n",
        "\n",
        "kmeans_labels = cluster.KMeans(n_clusters=n_clusters, n_init='auto').fit_predict(vectors)\n",
        "\n",
        "for cref in sorted(set(kmeans_labels)):\n",
        "  cluster_content = [n for n,c in zip(labels, kmeans_labels) if cref == c]\n",
        "  cluster_content_as_str = ' '.join(cluster_content)\n",
        "  print(f'Cluster n°{cref}:\\t{cluster_content_as_str}')"
      ],
      "metadata": {
        "id": "Tr9LulscgJ3Q"
      },
      "execution_count": null,
      "outputs": []
    },
    {
      "cell_type": "markdown",
      "source": [
        "### Visualization\n",
        "\n",
        "References:\n",
        "- https://github.com/lmcinnes/umap\n",
        "- https://matplotlib.org/stable/tutorials/colors/colormaps.html"
      ],
      "metadata": {
        "id": "HATdWIwwamda"
      }
    },
    {
      "cell_type": "code",
      "source": [
        "import umap\n",
        "import umap.plot\n",
        "\n",
        "# n_neighbors = vectors.shape[0] - 1\n",
        "n_neighbors = 3\n",
        "\n",
        "# The smaller the distance, the closer to each other points are allowed to be.\n",
        "min_dist = 0.3\n",
        "\n",
        "mapper = umap.UMAP(n_neighbors=n_neighbors,\n",
        "                   min_dist=min_dist,\n",
        "                   metric='cosine').fit(vectors)\n",
        "\n",
        "embedding = mapper.transform(vectors)\n",
        "\n",
        "ax = umap.plot.points(mapper, labels=labels_with_names, show_legend=False)\n",
        "\n",
        "for coord, name in zip(embedding, labels_with_names):\n",
        "  ax.text(coord[0], coord[1], name, horizontalalignment='center')"
      ],
      "metadata": {
        "id": "9tPwgBAbrrBC"
      },
      "execution_count": null,
      "outputs": []
    },
    {
      "cell_type": "markdown",
      "source": [
        "## Characters"
      ],
      "metadata": {
        "id": "EWuJGDtrYxEZ"
      }
    },
    {
      "cell_type": "markdown",
      "source": [
        "- :ar:\t🏹    \tArcher\n",
        "- :ba:\t🦇    \tBat\n",
        "- :ch:\t💰    \tChest\n",
        "- :co:\t🟡    \tCoins\n",
        "- :dr:\t🐲    \tDragon\n",
        "- :fr:\t🐸    \tFrog\n",
        "- :go:\t👺    \tBlade Orc\n",
        "- :ki:\t👑    \tThe King\n",
        "- :ma:\t🧙‍♀️ \tMage\n",
        "- :ne:\t👿    \tNecromancer\n",
        "- :or:\t👹    \tAxe Orc\n",
        "- :sk:\t💀    \tSkeleton\n",
        "- :sp:\t🕷    \tSpider\n",
        "- :th:\t👤    \tBandit\n",
        "- N/A\t🚫    \tN/A\n",
        "- :ty:\t🏆    \tRelic\n",
        "- :vi:\t👨‍🌾  \tVillager\n",
        "- :wa:\t🤺    \tKnight\n",
        "- :wi:\t🧙‍♂️ \tSorcerer\n",
        "- :zo:\t🧟    \tZombie"
      ],
      "metadata": {
        "id": "fyz4YW2upTw2"
      }
    }
  ]
}